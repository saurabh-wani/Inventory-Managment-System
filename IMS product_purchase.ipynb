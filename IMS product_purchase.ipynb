{
 "cells": [
  {
   "cell_type": "code",
   "execution_count": 1,
   "metadata": {},
   "outputs": [],
   "source": [
    "import json\n",
    "import time\n",
    "import os \n",
    "fd = open(\"records.json\",'r')\n",
    "read = fd.read()\n",
    "fd.close()\n",
    "\n",
    "records = json.loads(read)"
   ]
  },
  {
   "cell_type": "code",
   "execution_count": 86,
   "metadata": {},
   "outputs": [
    {
     "data": {
      "text/plain": [
       "{'1001': {'Product_Name': 'Pen Drive',\n",
       "  'Product_Company': 'Sandisk',\n",
       "  'Quantity_Available': 417,\n",
       "  'Price( in RS.)': 600,\n",
       "  'Weight( in gms)': 30},\n",
       " '1002': {'Product_Name': 'T-Shirt',\n",
       "  'Product_Company': 'Polo',\n",
       "  'Quantity_Available': 207,\n",
       "  'Price( in RS.)': 499,\n",
       "  'Weight( in gms)': 50},\n",
       " '1003': {'Product_Name': 'Potato Chips',\n",
       "  'Product_Company': 'Lays',\n",
       "  'Quantity_Available': 300,\n",
       "  'Price( in RS.)': 30,\n",
       "  'Weight( in gms)': 100},\n",
       " '1004': {'Product_Name': 'Face Wash',\n",
       "  'Product_Company': 'Mamaearth',\n",
       "  'Quantity_Available': 147,\n",
       "  'Price( in RS.)': 200,\n",
       "  'Weight( in gms)': 140},\n",
       " '1005': {'Product_Name': 'Washing Powder',\n",
       "  'Product_Company': 'Nirma',\n",
       "  'Quantity_Available': 196,\n",
       "  'Price( in RS.)': 150,\n",
       "  'Weight( in gms)': 500},\n",
       " '1006': {'Product_Name': 'Sprite',\n",
       "  'Product_Company': 'Sprite',\n",
       "  'Quantity_Available': 97,\n",
       "  'Price( in RS.)': 48,\n",
       "  'Weight( in gms)': 500},\n",
       " '1007': {'Product_Name': 'Coke',\n",
       "  'Product_Company': 'Coca cola',\n",
       "  'Quantity_Available': 201,\n",
       "  'Price( in RS.)': 40,\n",
       "  'Weight( in gms)': 140},\n",
       " '1008': {'Product_Name': 'Water',\n",
       "  'Product_Company': 'Bisleri',\n",
       "  'Quantity_Available': 101,\n",
       "  'Price( in RS.)': 48,\n",
       "  'Weight( in gms)': 1000},\n",
       " '1009': {'Product_Name': 'Pepsi',\n",
       "  'Product_Company': 'Pepsi',\n",
       "  'Quantity_Available': 123,\n",
       "  'Price( in RS.)': 40,\n",
       "  'Weight( in gms)': 100},\n",
       " '1010': {'Product_Name': 'Bat',\n",
       "  'Product_Company': 'SS',\n",
       "  'Quantity_Available': 54,\n",
       "  'Price( in RS.)': 999,\n",
       "  'Weight( in gms)': 540},\n",
       " '1011': {'Product_Name': 'Tennis Ball',\n",
       "  'Product_Company': 'Captain',\n",
       "  'Quantity_Available': 145,\n",
       "  'Price( in RS.)': 50,\n",
       "  'Weight( in gms)': 60},\n",
       " '1012': {'Product_Name': 'Tomato Ketchup',\n",
       "  'Product_Company': 'Nestle',\n",
       "  'Quantity_Available': 200,\n",
       "  'Price( in RS.)': 100,\n",
       "  'Weight( in gms)': 250},\n",
       " '1013': {'Product_Name': 'Red Chilli Sauce',\n",
       "  'Product_Company': 'Nestle',\n",
       "  'Quantity_Available': 152,\n",
       "  'Price( in RS.)': 120,\n",
       "  'Weight( in gms)': 250},\n",
       " '1014': {'Product_Name': 'Green Chilli Sauce',\n",
       "  'Product_Company': 'Nestle',\n",
       "  'Quantity_Available': 142,\n",
       "  'Price( in RS.)': 120,\n",
       "  'Weight( in gms)': 250},\n",
       " '1015': {'Product_Name': 'Pizza Sauce',\n",
       "  'Product_Company': 'Nestle',\n",
       "  'Quantity_Available': 140,\n",
       "  'Price( in RS.)': 100,\n",
       "  'Weight( in gms)': 130},\n",
       " '1016': {'Product_Name': 'Soya Sauce',\n",
       "  'Product_Company': 'Nestle',\n",
       "  'Quantity_Available': 142,\n",
       "  'Price( in RS.)': 68,\n",
       "  'Weight( in gms)': 100},\n",
       " '1017': {'Product_Name': 'Schezwan Sauce',\n",
       "  'Product_Company': \"Ching's\",\n",
       "  'Quantity_Available': 182,\n",
       "  'Price( in RS.)': 120,\n",
       "  'Weight( in gms)': 100},\n",
       " '1018': {'Product_Name': 'Massala Maggi',\n",
       "  'Product_Company': 'Nestle',\n",
       "  'Quantity_Available': 400,\n",
       "  'Price( in RS.)': 65,\n",
       "  'Weight( in gms)': 250},\n",
       " '1019': {'Product_Name': 'Garlic Maggi',\n",
       "  'Product_Company': \"Ching's\",\n",
       "  'Quantity_Available': 350,\n",
       "  'Price( in RS.)': 69,\n",
       "  'Weight( in gms)': 250},\n",
       " '1020': {'Product_Name': 'Manchurian Maggi',\n",
       "  'Product_Company': \"Ching's\",\n",
       "  'Quantity_Available': 320,\n",
       "  'Price( in RS.)': 70,\n",
       "  'Weight( in gms)': 240},\n",
       " '1021': {'Product_Name': 'Haka Noodles',\n",
       "  'Product_Company': \"Ching's\",\n",
       "  'Quantity_Available': 300,\n",
       "  'Price( in RS.)': 67,\n",
       "  'Weight( in gms)': 240},\n",
       " '1022': {'Product_Name': 'Pasta',\n",
       "  'Product_Company': 'Nestle',\n",
       "  'Quantity_Available': 325,\n",
       "  'Price( in RS.)': 70,\n",
       "  'Weight( in gms)': 250},\n",
       " '1023': {'Product_Name': 'Butter',\n",
       "  'Product_Company': 'Amul',\n",
       "  'Quantity_Available': 304,\n",
       "  'Price( in RS.)': 48,\n",
       "  'Weight( in gms)': 50},\n",
       " '1024': {'Product_Name': 'Cheese',\n",
       "  'Product_Company': 'Amul',\n",
       "  'Quantity_Available': 312,\n",
       "  'Price( in RS.)': 68,\n",
       "  'Weight( in gms)': 120},\n",
       " '1025': {'Product_Name': 'Cheese Slice',\n",
       "  'Product_Company': 'Amul',\n",
       "  'Quantity_Available': 120,\n",
       "  'Price( in RS.)': 100,\n",
       "  'Weight( in gms)': 100},\n",
       " '1026': {'Product_Name': 'Mozzarella Cheese',\n",
       "  'Product_Company': 'Amul',\n",
       "  'Quantity_Available': 140,\n",
       "  'Price( in RS.)': 100,\n",
       "  'Weight( in gms)': 100},\n",
       " '1027': {'Product_Name': 'Notebook',\n",
       "  'Product_Company': 'Classmate',\n",
       "  'Quantity_Available': 792,\n",
       "  'Price( in RS.)': 68,\n",
       "  'Weight( in gms)': 230},\n",
       " '1028': {'Product_Name': 'Pen',\n",
       "  'Product_Company': 'Fountain',\n",
       "  'Quantity_Available': 996,\n",
       "  'Price( in RS.)': 100,\n",
       "  'Weight( in gms)': 40},\n",
       " '1029': {'Product_Name': 'Cadbury',\n",
       "  'Product_Company': '5 star',\n",
       "  'Quantity_Available': 146,\n",
       "  'Price( in RS.)': 50,\n",
       "  'Weight( in gms)': 50},\n",
       " '1030': {'Product_Name': 'Cake',\n",
       "  'Product_Company': 'Local',\n",
       "  'Quantity_Available': 50,\n",
       "  'Price( in RS.)': 270,\n",
       "  'Weight( in gms)': 400},\n",
       " '1031': {'Product_Name': 'Camera',\n",
       "  'Product_Company': 'Canon',\n",
       "  'Quantity_Available': 119,\n",
       "  'Price( in RS.)': 9999,\n",
       "  'Weight( in gms)': 580}}"
      ]
     },
     "execution_count": 86,
     "metadata": {},
     "output_type": "execute_result"
    }
   ],
   "source": [
    "records"
   ]
  },
  {
   "cell_type": "code",
   "execution_count": 87,
   "metadata": {},
   "outputs": [],
   "source": [
    "#transaction Id(key) for sales.json file\n",
    "#run this cell only one time\n",
    "if (os.path.getsize(\"sales.json\") == 0):\n",
    "    j = 0\n",
    "else:\n",
    "    with open('sales.json', ) as f:\n",
    "        data = json.load(f)\n",
    "        k = data.keys()\n",
    "        k = list(k)\n",
    "        j = k[-1]\n",
    "        j = int(j)"
   ]
  },
  {
   "cell_type": "code",
   "execution_count": 88,
   "metadata": {},
   "outputs": [
    {
     "name": "stdout",
     "output_type": "stream",
     "text": [
      "Product Id    Price            Quantity            Product\n",
      "1001            600             417                  Pen Drive\n",
      "1002            499             207                  T-Shirt\n",
      "1003            30             300                  Potato Chips\n",
      "1004            200             147                  Face Wash\n",
      "1005            150             196                  Washing Powder\n",
      "1006            48             97                  Sprite\n",
      "1007            40             201                  Coke\n",
      "1008            48             101                  Water\n",
      "1009            40             123                  Pepsi\n",
      "1010            999             54                  Bat\n",
      "1011            50             145                  Tennis Ball\n",
      "1012            100             200                  Tomato Ketchup\n",
      "1013            120             152                  Red Chilli Sauce\n",
      "1014            120             142                  Green Chilli Sauce\n",
      "1015            100             140                  Pizza Sauce\n",
      "1016            68             142                  Soya Sauce\n",
      "1017            120             182                  Schezwan Sauce\n",
      "1018            65             400                  Massala Maggi\n",
      "1019            69             350                  Garlic Maggi\n",
      "1020            70             320                  Manchurian Maggi\n",
      "1021            67             300                  Haka Noodles\n",
      "1022            70             325                  Pasta\n",
      "1023            48             304                  Butter\n",
      "1024            68             312                  Cheese\n",
      "1025            100             120                  Cheese Slice\n",
      "1026            100             140                  Mozzarella Cheese\n",
      "1027            68             792                  Notebook\n",
      "1028            100             996                  Pen\n",
      "1029            50             146                  Cadbury\n",
      "1030            270             50                  Cake\n",
      "1031            9999             119                  Camera\n"
     ]
    }
   ],
   "source": [
    "print(\"Product Id   \",\"Price     \",\"      Quantity       \",\"    Product\" )\n",
    "for i in records:\n",
    "    print(i,\"          \" , records[i]['Price( in RS.)'],\"           \", records[i]['Quantity_Available'],\"                \",records[i]['Product_Name'],)"
   ]
  },
  {
   "cell_type": "code",
   "execution_count": 89,
   "metadata": {},
   "outputs": [
    {
     "name": "stdout",
     "output_type": "stream",
     "text": [
      "Enter the product_Id: 1015\n",
      "Enter the quantity: 6\n",
      "________________________________________________________________________________\n",
      "Sat Sep  4 23:20:38 2021\n",
      "________________________________________________________________________________\n",
      "--------------------------------------------------------------------------------\n",
      "Product:  Pizza Sauce\n",
      "Price:  100\n",
      "Billing Amount:  600\n",
      "________________________________________________________________________________\n",
      "Total Payable Amount:  558\n",
      "________________________________________________________________________________\n",
      "--------------------------------------------------------------------------------\n",
      "Congratulations, You have saved Rs. 42\n",
      "***********************************************************************************\n",
      "Thank you :)\n",
      "Have a nice Day ahead :)\n"
     ]
    }
   ],
   "source": [
    "\n",
    "\n",
    "product  = str(input(\"Enter the product_Id: \"))\n",
    "quantity = int(input(\"Enter the quantity: \"))\n",
    "\n",
    "\n",
    "print(\"________________________________________________________________________________\")\n",
    "print(time.ctime())\n",
    "print(\"________________________________________________________________________________\")\n",
    "print(\"--------------------------------------------------------------------------------\")\n",
    "print(\"Product: \", records[product]['Product_Name'])\n",
    "print(\"Price: \", records[product]['Price( in RS.)'])\n",
    "print(\"Billing Amount: \", records[product]['Price( in RS.)'] * quantity)\n",
    "print(\"________________________________________________________________________________\")\n",
    "\n",
    "#Discount on purchase of specific ammount\n",
    "before_discount_price = records[product]['Price( in RS.)'] * quantity\n",
    "after_discount_price = 0.93 * before_discount_price   # 7% discount on every purchase\n",
    "\n",
    "print(\"Total Payable Amount: \",round(after_discount_price))\n",
    "print(\"________________________________________________________________________________\")\n",
    "print(\"--------------------------------------------------------------------------------\")\n",
    "\n",
    "   \n",
    "print(\"Congratulations, You have saved Rs.\",round(before_discount_price-after_discount_price))\n",
    "print(\"***********************************************************************************\")\n",
    "print(\"Thank you :)\")\n",
    "print(\"Have a nice Day ahead :)\")\n",
    "\n",
    "\n",
    "records[product]['Quantity_Available'] = records[product]['Quantity_Available'] - quantity"
   ]
  },
  {
   "cell_type": "code",
   "execution_count": null,
   "metadata": {},
   "outputs": [],
   "source": []
  },
  {
   "cell_type": "code",
   "execution_count": null,
   "metadata": {},
   "outputs": [],
   "source": []
  },
  {
   "cell_type": "code",
   "execution_count": 90,
   "metadata": {},
   "outputs": [
    {
     "name": "stdout",
     "output_type": "stream",
     "text": [
      "Product Id    Price            Quantity            Product\n",
      "1001            600             417                  Pen Drive\n",
      "1002            499             207                  T-Shirt\n",
      "1003            30             300                  Potato Chips\n",
      "1004            200             147                  Face Wash\n",
      "1005            150             196                  Washing Powder\n",
      "1006            48             97                  Sprite\n",
      "1007            40             201                  Coke\n",
      "1008            48             101                  Water\n",
      "1009            40             123                  Pepsi\n",
      "1010            999             54                  Bat\n",
      "1011            50             145                  Tennis Ball\n",
      "1012            100             200                  Tomato Ketchup\n",
      "1013            120             152                  Red Chilli Sauce\n",
      "1014            120             142                  Green Chilli Sauce\n",
      "1015            100             134                  Pizza Sauce\n",
      "1016            68             142                  Soya Sauce\n",
      "1017            120             182                  Schezwan Sauce\n",
      "1018            65             400                  Massala Maggi\n",
      "1019            69             350                  Garlic Maggi\n",
      "1020            70             320                  Manchurian Maggi\n",
      "1021            67             300                  Haka Noodles\n",
      "1022            70             325                  Pasta\n",
      "1023            48             304                  Butter\n",
      "1024            68             312                  Cheese\n",
      "1025            100             120                  Cheese Slice\n",
      "1026            100             140                  Mozzarella Cheese\n",
      "1027            68             792                  Notebook\n",
      "1028            100             996                  Pen\n",
      "1029            50             146                  Cadbury\n",
      "1030            270             50                  Cake\n",
      "1031            9999             119                  Camera\n"
     ]
    }
   ],
   "source": [
    "#updated quantity\n",
    "\n",
    "\n",
    "print(\"Product Id   \",\"Price     \",\"      Quantity       \",\"    Product\" )\n",
    "for i in records:\n",
    "    print(i,\"          \" , records[i]['Price( in RS.)'],\"           \", records[i]['Quantity_Available'],\"                \",records[i]['Product_Name'],)"
   ]
  },
  {
   "cell_type": "code",
   "execution_count": 91,
   "metadata": {},
   "outputs": [],
   "source": [
    "#update in json file\n",
    "js = json.dumps(records)\n",
    "\n",
    "fd = open(\"records.json\",'w')\n",
    "fd.write(js)\n",
    "fd.close()"
   ]
  },
  {
   "cell_type": "code",
   "execution_count": 92,
   "metadata": {},
   "outputs": [],
   "source": [
    "j += 1"
   ]
  },
  {
   "cell_type": "code",
   "execution_count": 93,
   "metadata": {},
   "outputs": [],
   "source": [
    "sales = {j:{\"Time\":time.ctime(),\"Product_Id\":product,\"Quantity\":quantity,\"Amount\":round(after_discount_price)}}"
   ]
  },
  {
   "cell_type": "code",
   "execution_count": 94,
   "metadata": {},
   "outputs": [
    {
     "data": {
      "text/plain": [
       "'js = json.dumps(sales)\\n\\nfd = open(\"sales.json\",\\'w\\')\\nfd.write(js)\\nfd.close()'"
      ]
     },
     "execution_count": 94,
     "metadata": {},
     "output_type": "execute_result"
    }
   ],
   "source": [
    "'''js = json.dumps(sales)\n",
    "\n",
    "fd = open(\"sales.json\",'w')\n",
    "fd.write(js)\n",
    "fd.close()'''"
   ]
  },
  {
   "cell_type": "code",
   "execution_count": 95,
   "metadata": {},
   "outputs": [],
   "source": [
    "a_dictionary = {j:{\"Time\":time.ctime(),\"Product_Id\":product,\"Quantity\":quantity,\"Amount\":round(after_discount_price)}}\n",
    "\n",
    "with open(\"sales.json\", \"r+\") as file:\n",
    "    data = json.load(file)\n",
    "    data.update(a_dictionary)\n",
    "    file.seek(0)\n",
    "    json.dump(data, file)"
   ]
  },
  {
   "cell_type": "code",
   "execution_count": null,
   "metadata": {},
   "outputs": [],
   "source": []
  },
  {
   "cell_type": "code",
   "execution_count": 96,
   "metadata": {},
   "outputs": [
    {
     "data": {
      "text/plain": [
       "'js = json.dumps(sales)\\n\\nfd = open(\"sales.json\",\\'w\\')\\nfd.write(js)\\nfd.close()'"
      ]
     },
     "execution_count": 96,
     "metadata": {},
     "output_type": "execute_result"
    }
   ],
   "source": [
    "'''js = json.dumps(sales)\n",
    "\n",
    "fd = open(\"sales.json\",'w')\n",
    "fd.write(js)\n",
    "fd.close()'''"
   ]
  },
  {
   "cell_type": "code",
   "execution_count": 97,
   "metadata": {},
   "outputs": [
    {
     "data": {
      "text/plain": [
       "{12: {'Time': 'Sat Sep  4 23:20:44 2021',\n",
       "  'Product_Id': '1015',\n",
       "  'Quantity': 6,\n",
       "  'Amount': 558}}"
      ]
     },
     "execution_count": 97,
     "metadata": {},
     "output_type": "execute_result"
    }
   ],
   "source": [
    "sales"
   ]
  },
  {
   "cell_type": "code",
   "execution_count": 98,
   "metadata": {},
   "outputs": [],
   "source": [
    "fd = open(\"sales.json\",'r')\n",
    "read = fd.read()\n",
    "fd.close()\n",
    "\n",
    "sales_json = json.loads(read)"
   ]
  },
  {
   "cell_type": "code",
   "execution_count": 99,
   "metadata": {},
   "outputs": [
    {
     "data": {
      "text/plain": [
       "{'1': {'Time': 'Fri Sep  3 01:35:35 2021',\n",
       "  'Product_Id': '1005',\n",
       "  'Quantity': 1,\n",
       "  'Amount': 139.5},\n",
       " '2': {'Time': 'Fri Sep  3 01:38:38 2021',\n",
       "  'Product_Id': '1006',\n",
       "  'Quantity': 1,\n",
       "  'Amount': 44.64},\n",
       " '3': {'Time': 'Fri Sep  3 11:20:23 2021',\n",
       "  'Product_Id': '1004',\n",
       "  'Quantity': 2,\n",
       "  'Amount': 372.0},\n",
       " '4': {'Time': 'Fri Sep  3 11:20:40 2021',\n",
       "  'Product_Id': '1005',\n",
       "  'Quantity': 3,\n",
       "  'Amount': 418.5},\n",
       " '5': {'Time': 'Fri Sep  3 12:00:09 2021',\n",
       "  'Product_Id': '1002',\n",
       "  'Quantity': 1,\n",
       "  'Amount': 464.07000000000005},\n",
       " '6': {'Time': 'Sat Sep  4 23:11:01 2021',\n",
       "  'Product_Id': '1006',\n",
       "  'Quantity': 2,\n",
       "  'Amount': 89},\n",
       " '7': {'Time': 'Sat Sep  4 23:13:27 2021',\n",
       "  'Product_Id': '1020',\n",
       "  'Quantity': 4,\n",
       "  'Amount': 260},\n",
       " '8': {'Time': 'Sat Sep  4 23:16:43 2021',\n",
       "  'Product_Id': '1028',\n",
       "  'Quantity': 4,\n",
       "  'Amount': 372},\n",
       " '9': {'Time': 'Sat Sep  4 23:17:22 2021',\n",
       "  'Product_Id': '1031',\n",
       "  'Quantity': 1,\n",
       "  'Amount': 9299},\n",
       " '10': {'Time': 'Sat Sep  4 23:18:23 2021',\n",
       "  'Product_Id': '1014',\n",
       "  'Quantity': 3,\n",
       "  'Amount': 335},\n",
       " '11': {'Time': 'Sat Sep  4 23:19:13 2021',\n",
       "  'Product_Id': '1027',\n",
       "  'Quantity': 8,\n",
       "  'Amount': 506},\n",
       " '12': {'Time': 'Sat Sep  4 23:20:45 2021',\n",
       "  'Product_Id': '1015',\n",
       "  'Quantity': 6,\n",
       "  'Amount': 558}}"
      ]
     },
     "execution_count": 99,
     "metadata": {},
     "output_type": "execute_result"
    }
   ],
   "source": [
    "sales_json"
   ]
  },
  {
   "cell_type": "code",
   "execution_count": null,
   "metadata": {},
   "outputs": [],
   "source": []
  }
 ],
 "metadata": {
  "kernelspec": {
   "display_name": "Python 3",
   "language": "python",
   "name": "python3"
  },
  "language_info": {
   "codemirror_mode": {
    "name": "ipython",
    "version": 3
   },
   "file_extension": ".py",
   "mimetype": "text/x-python",
   "name": "python",
   "nbconvert_exporter": "python",
   "pygments_lexer": "ipython3",
   "version": "3.8.3"
  }
 },
 "nbformat": 4,
 "nbformat_minor": 4
}
